{
 "cells": [
  {
   "cell_type": "markdown",
   "metadata": {},
   "source": [
    "# Solutions -- Homework 3"
   ]
  },
  {
   "cell_type": "code",
   "execution_count": 1,
   "metadata": {},
   "outputs": [],
   "source": [
    "import numpy as np\n",
    "freq = np.array([162,267,271,185,111,61,27,8,3,1])"
   ]
  },
  {
   "cell_type": "markdown",
   "metadata": {},
   "source": [
    "## Problem 1\n",
    "\n",
    "The Poisson probability mass function is\n",
    "$$ f(x|\\lambda) = \\frac{e^{-\\lambda}\\lambda^x}{x!}$$\n",
    "\n",
    "The MLE maximizes the log likelihood. The log likelihood for the sample is\n",
    "\\begin{align*}\n",
    "\\log f(\\vec{x}) &= \\log \\prod_{i=1}^n f(x_i|\\lambda)\\\\\n",
    "&= \\sum_{i=1}^n \\log f(x_i|\\lambda)\\\\\n",
    "&= \\sum_{i=1}^n (-\\lambda + x_i\\log \\lambda - \\log x!)\\\\\n",
    "&= -n\\lambda + \\sum_{i=1}^n(x_i) \\log \\lambda - \\sum_{i=1}^n \\log x!\n",
    "\\end{align*}\n",
    "Differentienting, setting equal to $0$, and solving for $\\lambda$, we obtain\n",
    "$$ \\widehat{\\lambda} = \\bar{X} = \\frac{1}{n}\\sum_{i=1}^n X_i $$\n",
    "In other words, the MLE is the sample mean.\n",
    "\n",
    "We now compute the sample mean for this data."
   ]
  },
  {
   "cell_type": "code",
   "execution_count": 2,
   "metadata": {},
   "outputs": [],
   "source": [
    "## number of observations\n",
    "n = np.sum(freq)"
   ]
  },
  {
   "cell_type": "code",
   "execution_count": 3,
   "metadata": {},
   "outputs": [
    {
     "data": {
      "text/plain": [
       "2.156934306569343"
      ]
     },
     "execution_count": 3,
     "metadata": {},
     "output_type": "execute_result"
    }
   ],
   "source": [
    "## mean number of deaths = total deaths / number of days\n",
    "lambda_mle = np.sum(np.arange(freq.size)*freq) / n\n",
    "lambda_mle"
   ]
  },
  {
   "cell_type": "code",
   "execution_count": 4,
   "metadata": {},
   "outputs": [
    {
     "data": {
      "image/png": "[encoded data removed]",
      "text/plain": [
       "<Figure size 432x288 with 1 Axes>"
      ]
     },
     "metadata": {},
     "output_type": "display_data"
    }
   ],
   "source": [
    "%matplotlib inline\n",
    "import matplotlib.pyplot as plt\n",
    "from scipy.stats import poisson\n",
    "\n",
    "plt.style.use('seaborn-whitegrid')\n",
    "\n",
    "## proportion of different number of deaths\n",
    "x = np.arange(freq.size)\n",
    "plt.plot(x, freq/np.sum(freq), 'o', color='black')\n",
    "plt.plot(x, poisson.pmf(x, lambda_mle),'o',color='red')\n",
    "plt.xlabel(\"Number of Deaths\")\n",
    "plt.ylabel(\"Proportion\");"
   ]
  },
  {
   "cell_type": "markdown",
   "metadata": {},
   "source": [
    "## Problem 2"
   ]
  },
  {
   "cell_type": "markdown",
   "metadata": {},
   "source": [
    "The answer to problem 1 used standard notation for the data i.e. $x_1$ was the number of deaths on day 1. Now we let $n_i = $ number of days with $i$ deaths. So\n",
    "$$n_i = \\sum_j \\mathbb{1}_{X_j=i}$$\n",
    "\n",
    "The likelihood is\n",
    "$$f(\\vec{n}|\\alpha,\\mu_1,\\mu_2) = \\prod_{i=0}^9 \\left(\\underbrace{\\alpha e^{-\\mu_1} \\frac{\\mu_1^i}{i!} + (1-\\alpha)e^{-\\mu_2}\\frac{\\mu_2^i}{i!}}_{\\equiv g_i}\\right)^{n_i}$$\n",
    "\n",
    "So the log likelihood is\n",
    "$$ \\log \\, f = \\sum_{i=0}^9 n_i \\log(g_i) $$\n",
    "\n",
    "The gradient is\n",
    "$$ \\frac{\\partial log f}{\\partial \\alpha} = \\sum_{i=0}^9 \\frac{n_i}{g_i} \\frac{\\partial g_i}{\\partial \\alpha}$$\n",
    "$$ \\frac{\\partial log f}{\\partial \\mu_j} = \\sum_{i=0}^9 \\frac{n_i}{g_i} \\frac{\\partial g_i}{\\partial \\mu_j}$$\n",
    "for $j=1,2$ and where\n",
    "$$\\frac{\\partial g_i}{\\partial \\alpha} = e^{-\\mu_1} \\frac{\\mu_1^i}{i!} - e^{-\\mu_2}\\frac{\\mu_2^i}{i!}$$\n",
    "$$\\frac{\\partial g_i}{\\partial \\mu_1} = -\\alpha e^{-\\mu_1} \\frac{\\mu_1^i}{i!} + \\alpha e^{-\\mu_1} \\frac{\\mu_1^{i-1}\\mathbb{1}_{i > 0}}{(i-1)!}$$\n",
    "$$\\frac{\\partial g_i}{\\partial \\mu_1} = -(1-\\alpha) e^{-\\mu_2} \\frac{\\mu_2^i}{i!} + (1-\\alpha) e^{-\\mu_2} \\frac{\\mu_2^{i-1}\\mathbb{1}_{i > 0}}{(i-1)!}.$$\n",
    "Note the indicator functions. These are important for the second terms in the $\\partial g_i / \\partial \\mu_j$ which are $0$ for $i=0$ (because we are differentiating a constant)."
   ]
  },
  {
   "cell_type": "markdown",
   "metadata": {},
   "source": [
    "We now write functions to implement the log likelihood and gradient. The log likelihood is fairly straightforward."
   ]
  },
  {
   "cell_type": "code",
   "execution_count": 5,
   "metadata": {},
   "outputs": [],
   "source": [
    "import scipy\n",
    "\n",
    "def g(alpha,mu1,mu2,N):\n",
    "    iis = np.arange(N)\n",
    "    iisf = scipy.special.factorial(iis)\n",
    "    return alpha*np.exp(-mu1)*np.power(mu1,iis)/iisf + (1-alpha)*np.exp(-mu2)*np.power(mu2,iis)/iisf\n",
    "\n",
    "## params = alpha, mu1, mu2 1-d array of parameters\n",
    "## n = 1-d array of counts of the number of deaths\n",
    "def log_likelihood(params,n):\n",
    "    like=g(params[0],params[1],params[2],n.size)\n",
    "    if np.min(like) < 0:\n",
    "        return -np.inf \n",
    "    else:\n",
    "        return np.sum(n*np.log(like))\n",
    "    "
   ]
  },
  {
   "cell_type": "markdown",
   "metadata": {},
   "source": [
    "The gradient is a bit more complicated."
   ]
  },
  {
   "cell_type": "code",
   "execution_count": 6,
   "metadata": {},
   "outputs": [],
   "source": [
    "def dgda(mu1,mu2,N):\n",
    "    iis = np.arange(N)\n",
    "    iisf = scipy.special.factorial(iis)\n",
    "    return np.exp(-mu1)*np.power(mu1,iis)/iisf - np.exp(-mu2)*np.power(mu2,iis)/iisf\n",
    "\n",
    "## omits the leading alpha for mu1 and leading (1-alpha) for mu2\n",
    "def dgdmu(mu,N):\n",
    "    iis = np.arange(N)\n",
    "    iisf = scipy.special.factorial(iis)\n",
    "    temp = np.exp(-mu)*np.power(mu,iis[:(N-1)])/iisf[:(N-1)]\n",
    "    return -np.exp(-mu)*np.power(mu,iis)/iisf + np.concatenate((np.zeros(1),temp))\n",
    "\n",
    "## params = alpha, mu1, mu2 1-d array of parameters\n",
    "## n = 1-d array of counts of the number of deaths\n",
    "def gradient_log_likelihood(params,n):\n",
    "    alpha = params[0]\n",
    "    mu1 = params[1]\n",
    "    mu2 = params[2]\n",
    "    N = n.size\n",
    "    nog = n / g(alpha,mu1,mu2,N)\n",
    "    c1 = dgda(mu1,mu2,N)\n",
    "    c2 = alpha*dgdmu(mu1,N)\n",
    "    c3 = (1-alpha)*dgdmu(mu2,N)\n",
    "    return np.array((np.sum(nog*c1),np.sum(nog*c2),np.sum(nog*c3)))"
   ]
  },
  {
   "cell_type": "markdown",
   "metadata": {},
   "source": [
    "We now implement gradient ascent with step halving."
   ]
  },
  {
   "cell_type": "code",
   "execution_count": 7,
   "metadata": {},
   "outputs": [
    {
     "data": {
      "text/plain": [
       "array([0.3, 1. , 2.5])"
      ]
     },
     "execution_count": 7,
     "metadata": {},
     "output_type": "execute_result"
    }
   ],
   "source": [
    "## gradient ascent with step halving\n",
    "Niter = 1000\n",
    "param_initial = np.array((0.3,1.0,2.5))\n",
    "param = np.zeros((Niter+1)*3).reshape(Niter+1,3)\n",
    "param[0,:] = param_initial\n",
    "param[0,:]"
   ]
  },
  {
   "cell_type": "code",
   "execution_count": 8,
   "metadata": {},
   "outputs": [],
   "source": [
    "for ii in np.arange(Niter):\n",
    "    grad = gradient_log_likelihood(param[ii,:],freq)\n",
    "    half = True\n",
    "    while half:\n",
    "        param_temp = param[ii,:] + grad\n",
    "        ## the new likelihood could produce nan because\n",
    "        ## we take the log of a negative number\n",
    "        ## if so, step halve\n",
    "        newlik = log_likelihood(param_temp,freq)\n",
    "        if np.isnan(newlik) or (newlik < log_likelihood(param[ii,:],freq)):\n",
    "            grad = grad / 2\n",
    "        else:\n",
    "            half = False\n",
    "    param[ii+1,:] = param_temp"
   ]
  },
  {
   "cell_type": "code",
   "execution_count": 9,
   "metadata": {},
   "outputs": [
    {
     "data": {
      "text/plain": [
       "array([[0.3       , 1.        , 2.5       ],\n",
       "       [0.22706808, 1.01877166, 2.52908317],\n",
       "       [0.25187606, 1.01496951, 2.52085513],\n",
       "       ...,\n",
       "       [0.3598852 , 1.25609473, 2.6634041 ],\n",
       "       [0.3598852 , 1.25609473, 2.6634041 ],\n",
       "       [0.3598852 , 1.25609473, 2.6634041 ]])"
      ]
     },
     "execution_count": 9,
     "metadata": {},
     "output_type": "execute_result"
    }
   ],
   "source": [
    "## looks correct\n",
    "param"
   ]
  },
  {
   "cell_type": "markdown",
   "metadata": {},
   "source": [
    "## Functionalize Gradient Code\n",
    "\n",
    "We now turn gradient code into a function so we can easily plot parameter path from several starting points."
   ]
  },
  {
   "cell_type": "code",
   "execution_count": 10,
   "metadata": {},
   "outputs": [],
   "source": [
    "## arguments\n",
    "##        loglike : log likelihood function\n",
    "##       dloglike : gradient (derivative of log likelihood)\n",
    "##  param_initial : initial parameter values for algorithm\n",
    "##              X : data\n",
    "##       para_tol : tolerance for assessing convergence\n",
    "##\n",
    "##\n",
    "##    value\n",
    "##      param_out :  2-D array with rows giving the parameter values at\n",
    "##                   each iteration\n",
    "##\n",
    "##    note: the function loglike and dloglike must have arguments\n",
    "##          (parameters,data)\n",
    "##          loglike must return a scalar and dloglike must return a 1-D\n",
    "##          np array of length p\n",
    "def gradient_ascent(loglike,dloglike,param_initial,X,para_tol): \n",
    "    para_diff = np.inf\n",
    "    param = [param_initial]\n",
    "    iter_count = 0\n",
    "    while para_diff > para_tol: #for ii in np.arange(Niter):\n",
    "        grad = dloglike(param[iter_count],X)\n",
    "        half = True\n",
    "        while half:\n",
    "            param_temp = param[iter_count] + grad\n",
    "            ## the new likelihood could produce nan because\n",
    "            ## we take the log of a negative number\n",
    "            ## if so, step halve\n",
    "            newlik = loglike(param_temp,X)\n",
    "            #if np.isnan(newlik):\n",
    "            #   print(param_temp)\n",
    "            if np.isnan(newlik) or (newlik < log_likelihood(param[iter_count],X)):\n",
    "                grad = grad / 2\n",
    "            else:\n",
    "                half = False\n",
    "        param.append(param_temp)\n",
    "        # Check convergence\n",
    "        para_diff = sum(np.absolute(np.subtract(param[iter_count+1],param[iter_count])))\n",
    "        iter_count = iter_count + 1\n",
    "    param_out = np.array(param)\n",
    "    return [param_out,iter_count]"
   ]
  },
  {
   "cell_type": "markdown",
   "metadata": {},
   "source": [
    "We call function with 3 different starting values."
   ]
  },
  {
   "cell_type": "code",
   "execution_count": 11,
   "metadata": {},
   "outputs": [
    {
     "data": {
      "text/plain": [
       "array([[0.3       , 1.        , 2.5       ],\n",
       "       [0.22706808, 1.01877166, 2.52908317],\n",
       "       [0.25187606, 1.01496951, 2.52085513],\n",
       "       ...,\n",
       "       [0.35973244, 1.25581207, 2.6632092 ],\n",
       "       [0.35972401, 1.25581757, 2.66321483],\n",
       "       [0.35973059, 1.25581715, 2.66321344]])"
      ]
     },
     "execution_count": 11,
     "metadata": {},
     "output_type": "execute_result"
    }
   ],
   "source": [
    "## call function\n",
    "param_initial = np.array((0.3,1.0,2.5))\n",
    "param1 = gradient_ascent(log_likelihood,gradient_log_likelihood,param_initial,freq,10e-6)[0]\n",
    "param1\n"
   ]
  },
  {
   "cell_type": "code",
   "execution_count": 12,
   "metadata": {},
   "outputs": [
    {
     "data": {
      "text/plain": [
       "array([[0.5       , 0.5       , 4.1       ],\n",
       "       [0.24923513, 0.90173495, 3.95861443],\n",
       "       [0.56916043, 0.90473252, 3.86359071],\n",
       "       ...,\n",
       "       [0.36004747, 1.2563936 , 2.66361019],\n",
       "       [0.36005509, 1.25638817, 2.66360475],\n",
       "       [0.3600489 , 1.2563884 , 2.66360592]])"
      ]
     },
     "execution_count": 12,
     "metadata": {},
     "output_type": "execute_result"
    }
   ],
   "source": [
    "param_initial = np.array((0.5,0.5,4.1))\n",
    "param2 = gradient_ascent(log_likelihood,gradient_log_likelihood,param_initial,freq,10e-6)[0]\n",
    "param2"
   ]
  },
  {
   "cell_type": "code",
   "execution_count": 13,
   "metadata": {},
   "outputs": [
    {
     "name": "stderr",
     "output_type": "stream",
     "text": [
      "C:\\Users\\djones\\AppData\\Local\\conda\\conda\\envs\\stat689\\lib\\site-packages\\ipykernel_launcher.py:15: RuntimeWarning: divide by zero encountered in log\n",
      "  from ipykernel import kernelapp as app\n"
     ]
    },
    {
     "data": {
      "text/plain": [
       "array([[ 0.8       ,  0.1       ,  1.        ],\n",
       "       [-0.07149436,  0.48151832,  1.33857954],\n",
       "       [-0.22943851,  0.47434128,  1.65158431],\n",
       "       ...,\n",
       "       [ 0.35971199,  1.255774  ,  2.66318294],\n",
       "       [ 0.3597022 ,  1.25578031,  2.66318941],\n",
       "       [ 0.3597098 ,  1.25577979,  2.66318779]])"
      ]
     },
     "execution_count": 13,
     "metadata": {},
     "output_type": "execute_result"
    }
   ],
   "source": [
    "param_initial = np.array((0.8,0.1,1.0))\n",
    "param3 = gradient_ascent(log_likelihood,gradient_log_likelihood,param_initial,freq,10e-6)[0]\n",
    "param3"
   ]
  },
  {
   "cell_type": "markdown",
   "metadata": {},
   "source": [
    "### Plot Parameter Paths\n",
    "\n",
    "We plot the $\\mu_1$, $\\mu_2$ parameter paths. You could also plot these paths for $\\alpha$."
   ]
  },
  {
   "cell_type": "code",
   "execution_count": 14,
   "metadata": {},
   "outputs": [],
   "source": [
    "%matplotlib inline\n",
    "import matplotlib.pyplot as plt\n",
    "plt.style.use('ggplot')\n",
    "import numpy as np"
   ]
  },
  {
   "cell_type": "code",
   "execution_count": 15,
   "metadata": {},
   "outputs": [
    {
     "data": {
      "image/png": "[encoded data removed]",
      "text/plain": [
       "<Figure size 432x288 with 1 Axes>"
      ]
     },
     "metadata": {},
     "output_type": "display_data"
    }
   ],
   "source": [
    "#plt.plot(param1[:,1],param1[:,2])\n",
    "\n",
    "## sequence 1\n",
    "n1 = len(param1)-1\n",
    "plt.plot(param1[:,1],param1[:,2],color='orange',label=\"Path 1\")\n",
    "plt.plot(param1[n1,1],param1[n1,2],'x',color='orange',label=\"Final 1\")\n",
    "plt.plot(param1[0,1],param1[0,2],'o',color='orange',label=\"Initial 1\")\n",
    "## sequence 2\n",
    "n2 = len(param2)-1\n",
    "plt.plot(param2[:,1],param2[:,2],color='blue',label=\"Path 2\")\n",
    "plt.plot(param2[n2,1],param2[n2,2],'x',color='blue',label=\"Final 2\")\n",
    "plt.plot(param2[0,1],param2[0,2],'o',color='blue',label=\"Initial 2\")\n",
    "## sequence 3\n",
    "n3 = len(param3)-1\n",
    "plt.plot(param3[:,1],param3[:,2],color='red',label=\"Path 3\")\n",
    "plt.plot(param3[n3,1],param3[n3,2],'x',color='red',label=\"Final 3\")\n",
    "plt.plot(param3[0,1],param3[0,2],'o',color='red',label=\"Initial 3\")\n",
    "plt.xlabel(\"mu1\")\n",
    "plt.ylabel(\"mu2\")\n",
    "leg = plt.legend(loc='upper left')\n",
    "plt.show()"
   ]
  },
  {
   "cell_type": "markdown",
   "metadata": {
    "collapsed": true
   },
   "source": [
    "## Problem 3\n"
   ]
  },
  {
   "cell_type": "code",
   "execution_count": 16,
   "metadata": {},
   "outputs": [],
   "source": [
    "# Values given in the textbook\n",
    "alpha = 0.3\n",
    "mu1 = 1\n",
    "mu2 = 2.5"
   ]
  },
  {
   "cell_type": "code",
   "execution_count": 17,
   "metadata": {},
   "outputs": [],
   "source": [
    "def Ez(alpha,mu1,mu2,k):\n",
    "    term1 = alpha*np.exp(-mu1)*np.power(mu1,k)\n",
    "    term2 = (1-alpha)*np.exp(-mu2)*np.power(mu2,k)\n",
    "    return term1/(term1+term2)"
   ]
  },
  {
   "cell_type": "code",
   "execution_count": 18,
   "metadata": {},
   "outputs": [
    {
     "data": {
      "text/plain": [
       "array([6.57619125e-01, 4.34481758e-01, 2.35073895e-01, 1.09469629e-01,\n",
       "       4.68661004e-02, 1.92888357e-02, 7.80587401e-03, 3.13704202e-03,\n",
       "       1.25718311e-03, 5.03252852e-04])"
      ]
     },
     "execution_count": 18,
     "metadata": {},
     "output_type": "execute_result"
    }
   ],
   "source": [
    "# Check function\n",
    "Ez_vec = np.array(list(map(lambda y: Ez(alpha,mu1,mu2,y), np.arange(10))))\n",
    "Ez_vec"
   ]
  },
  {
   "cell_type": "code",
   "execution_count": 19,
   "metadata": {},
   "outputs": [],
   "source": [
    "# Run EM algorithm\n",
    "def em_alg(alpha,mu1,mu2,X,para_tol,like_tol):\n",
    "    old_like = -np.inf\n",
    "    like_diff = np.inf\n",
    "    iter_count = 0\n",
    "    para_diff = np.inf\n",
    "\n",
    "    while para_diff > para_tol or like_diff > like_tol:\n",
    "        mu1_old = mu1\n",
    "        mu2_old = mu2\n",
    "        alpha_old = alpha\n",
    "        Ez_vec = np.array(list(map(lambda y: Ez(alpha,mu1,mu2,y), np.arange(10))))\n",
    "        alpha = sum(X*Ez_vec)/sum(X)\n",
    "        mu1 = sum(X*np.arange(10)*Ez_vec)/sum(X*Ez_vec)\n",
    "        mu2 = sum(X*np.arange(10)*(1-Ez_vec))/sum(X*(1-Ez_vec))\n",
    "        # Check convergence\n",
    "        para_diff = sum(np.absolute([alpha-alpha_old,mu1-mu1_old,mu2-mu2_old]))\n",
    "        new_like = log_likelihood([alpha,mu1,mu2],X)\n",
    "        like_diff = np.absolute(new_like-old_like)\n",
    "        old_like = new_like\n",
    "        iter_count = iter_count + 1\n",
    "    return [alpha,mu1,mu2,iter_count,para_diff,like_diff]\n"
   ]
  },
  {
   "cell_type": "code",
   "execution_count": 20,
   "metadata": {},
   "outputs": [],
   "source": [
    "em_out = em_alg(alpha,mu1,mu2,freq,10e-6,10e-6)"
   ]
  },
  {
   "cell_type": "code",
   "execution_count": 21,
   "metadata": {},
   "outputs": [
    {
     "data": {
      "text/plain": [
       "[0.3593075138402641, 1.255089824982245, 2.662698781023993]"
      ]
     },
     "execution_count": 21,
     "metadata": {},
     "output_type": "execute_result"
    }
   ],
   "source": [
    "em_out[0:3] # matches textbook (0.3599, 1.2561, 2.6634)"
   ]
  },
  {
   "cell_type": "code",
   "execution_count": 22,
   "metadata": {},
   "outputs": [
    {
     "data": {
      "text/plain": [
       "[9.968900464174535e-06, 3.857394403894432e-08]"
      ]
     },
     "execution_count": 22,
     "metadata": {},
     "output_type": "execute_result"
    }
   ],
   "source": [
    "em_out[4:6]"
   ]
  },
  {
   "cell_type": "code",
   "execution_count": 23,
   "metadata": {},
   "outputs": [
    {
     "data": {
      "text/plain": [
       "1116"
      ]
     },
     "execution_count": 23,
     "metadata": {},
     "output_type": "execute_result"
    }
   ],
   "source": [
    "em_out[3]"
   ]
  },
  {
   "cell_type": "code",
   "execution_count": 24,
   "metadata": {},
   "outputs": [
    {
     "data": {
      "text/plain": [
       "378"
      ]
     },
     "execution_count": 24,
     "metadata": {},
     "output_type": "execute_result"
    }
   ],
   "source": [
    "param1 = gradient_ascent(log_likelihood,gradient_log_likelihood,[alpha,mu1,mu2],freq,10e-6)\n",
    "param1[1]"
   ]
  },
  {
   "cell_type": "code",
   "execution_count": 25,
   "metadata": {},
   "outputs": [
    {
     "name": "stdout",
     "output_type": "stream",
     "text": [
      "140 ms ± 599 µs per loop (mean ± std. dev. of 7 runs, 10 loops each)\n"
     ]
    }
   ],
   "source": [
    "%timeit em_out = em_alg(alpha,mu1,mu2,freq,10e-6,np.inf) # No likelihood tolerance "
   ]
  },
  {
   "cell_type": "code",
   "execution_count": 26,
   "metadata": {},
   "outputs": [
    {
     "name": "stdout",
     "output_type": "stream",
     "text": [
      "212 ms ± 440 µs per loop (mean ± std. dev. of 7 runs, 1 loop each)\n"
     ]
    }
   ],
   "source": [
    "%timeit param1 = gradient_ascent(log_likelihood,gradient_log_likelihood,[alpha,mu1,mu2],freq,10e-6)"
   ]
  },
  {
   "cell_type": "code",
   "execution_count": 27,
   "metadata": {},
   "outputs": [],
   "source": [
    "em_steps = np.zeros(100)\n",
    "for ii in np.arange(100):\n",
    "    alpha = np.random.uniform(0,1,1)[0]\n",
    "    mu1 = np.random.uniform(0,5,1)[0]\n",
    "    mu2 = np.random.uniform(0,5,1)[0]\n",
    "    em_steps[ii] = em_alg(alpha,mu1,mu2,freq,10e-6,np.inf)[3]"
   ]
  },
  {
   "cell_type": "markdown",
   "metadata": {},
   "source": [
    "The EM algorithm seems to be a bit faster here. However this could be due to the implementation because it takes nearly 3 times as many iterations to converge (though we should not forget that the gradient ascent algorithm may do one or more halvings within each step). "
   ]
  },
  {
   "cell_type": "code",
   "execution_count": null,
   "metadata": {},
   "outputs": [],
   "source": []
  }
 ],
 "metadata": {
  "kernelspec": {
   "display_name": "Python 3",
   "language": "python",
   "name": "python3"
  },
  "language_info": {
   "codemirror_mode": {
    "name": "ipython",
    "version": 3
   },
   "file_extension": ".py",
   "mimetype": "text/x-python",
   "name": "python",
   "nbconvert_exporter": "python",
   "pygments_lexer": "ipython3",
   "version": "3.6.8"
  }
 },
 "nbformat": 4,
 "nbformat_minor": 1
}
